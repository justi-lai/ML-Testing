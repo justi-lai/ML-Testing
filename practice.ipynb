{
 "cells": [
  {
   "cell_type": "code",
   "execution_count": 9,
   "metadata": {},
   "outputs": [],
   "source": [
    "import torch\n",
    "from torch import nn\n",
    "from torch.utils.data import DataLoader\n",
    "from torchvision import datasets\n",
    "from torchvision.transforms import ToTensor"
   ]
  },
  {
   "cell_type": "code",
   "execution_count": 10,
   "metadata": {},
   "outputs": [],
   "source": [
    "training_data = datasets.FashionMNIST(\n",
    "    root='data',\n",
    "    train=True,\n",
    "    download=True,\n",
    "    transform=ToTensor()\n",
    ")\n",
    "\n",
    "test_data = datasets.FashionMNIST(\n",
    "    root='data',\n",
    "    train=False,\n",
    "    download=True,\n",
    "    transform=ToTensor()\n",
    ")"
   ]
  },
  {
   "cell_type": "code",
   "execution_count": 11,
   "metadata": {},
   "outputs": [
    {
     "name": "stdout",
     "output_type": "stream",
     "text": [
      "Shape of inputs: torch.Size([64, 1, 28, 28])\n",
      "Shape of outputs: torch.Size([64])\n"
     ]
    }
   ],
   "source": [
    "batch_size = 64\n",
    "\n",
    "train_dataloader = DataLoader(training_data, batch_size=batch_size)\n",
    "test_dataloader = DataLoader(test_data, batch_size=batch_size)\n",
    "\n",
    "for X, y in test_dataloader:\n",
    "    print(f'Shape of inputs: {X.shape}')\n",
    "    print(f'Shape of outputs: {y.shape}')\n",
    "    break"
   ]
  },
  {
   "cell_type": "code",
   "execution_count": 12,
   "metadata": {},
   "outputs": [
    {
     "name": "stdout",
     "output_type": "stream",
     "text": [
      "Using cuda device\n"
     ]
    }
   ],
   "source": [
    "device = (\n",
    "    'cuda'\n",
    "    if torch.cuda.is_available()\n",
    "    else 'mps'\n",
    "    if torch.backends.mps.is_available()\n",
    "    else 'cpu'\n",
    ")\n",
    "print(f'Using {device} device')"
   ]
  },
  {
   "cell_type": "code",
   "execution_count": 13,
   "metadata": {},
   "outputs": [
    {
     "name": "stdout",
     "output_type": "stream",
     "text": [
      "NeuralNetwork(\n",
      "  (flatten): Flatten(start_dim=1, end_dim=-1)\n",
      "  (linear_relu_stack): Sequential(\n",
      "    (0): Linear(in_features=784, out_features=512, bias=True)\n",
      "    (1): ReLU()\n",
      "    (2): Linear(in_features=512, out_features=512, bias=True)\n",
      "    (3): ReLU()\n",
      "    (4): Linear(in_features=512, out_features=10, bias=True)\n",
      "  )\n",
      ")\n"
     ]
    }
   ],
   "source": [
    "class NeuralNetwork(nn.Module):\n",
    "    def __init__(self):\n",
    "        super().__init__()\n",
    "        self.flatten = nn.Flatten()\n",
    "        self.linear_relu_stack = nn.Sequential(\n",
    "            nn.Linear(28*28, 512),\n",
    "            nn.ReLU(),\n",
    "            nn.Linear(512, 512),\n",
    "            nn.ReLU(),\n",
    "            nn.Linear(512, 10)\n",
    "        )\n",
    "\n",
    "    def forward(self, x):\n",
    "        x = self.flatten(x)\n",
    "        logits = self.linear_relu_stack(x)\n",
    "        return logits\n",
    "    \n",
    "model = NeuralNetwork().to(device)\n",
    "print(model)"
   ]
  },
  {
   "cell_type": "code",
   "execution_count": 14,
   "metadata": {},
   "outputs": [],
   "source": [
    "loss_fn = nn.CrossEntropyLoss()\n",
    "optimizer = torch.optim.SGD(model.parameters(), lr=1e-3)"
   ]
  },
  {
   "cell_type": "code",
   "execution_count": 15,
   "metadata": {},
   "outputs": [],
   "source": [
    "def train(dataloader, model, loss_fn, optimizer):\n",
    "    size = len(dataloader.dataset)\n",
    "    model.train()\n",
    "    for batch, (X, y) in enumerate(dataloader):\n",
    "        X, y = X.to(device), y.to(device)\n",
    "\n",
    "        pred = model(X)\n",
    "        loss = loss_fn(pred, y)\n",
    "\n",
    "        loss.backward()\n",
    "        optimizer.step()\n",
    "        optimizer.zero_grad()\n",
    "\n",
    "        if batch % 100 == 0:\n",
    "            loss, current = loss.item(), (batch+1) * len(X)\n",
    "            print(f'loss: {loss:>7f}\\t[{current:>5d}/{size:>5d}]')\n",
    "\n",
    "def test(dataloader, model, loss_fn):\n",
    "    size = len(dataloader.dataset)\n",
    "    num_batches = len(dataloader)\n",
    "    model.eval()\n",
    "    test_loss, correct = 0, 0\n",
    "    with torch.no_grad():\n",
    "        for X, y in dataloader:\n",
    "            X, y = X.to(device), y.to(device)\n",
    "            pred = model(X)\n",
    "            test_loss += loss_fn(pred, y).item()\n",
    "            correct += (pred.argmax(1) == y).type(torch.float).sum().item()\n",
    "    test_loss /= num_batches\n",
    "    correct /= size\n",
    "    print(f'Test Error: \\nAccuracy: {(100*correct):>0.1f}%, Avg loss: {test_loss:>8f}\\n')\n"
   ]
  },
  {
   "cell_type": "code",
   "execution_count": 16,
   "metadata": {},
   "outputs": [
    {
     "name": "stdout",
     "output_type": "stream",
     "text": [
      "Epoch 1\n",
      "-------------------------------\n",
      "loss: 2.298318\t[   64/60000]\n",
      "loss: 2.286488\t[ 6464/60000]\n",
      "loss: 2.273530\t[12864/60000]\n",
      "loss: 2.274273\t[19264/60000]\n",
      "loss: 2.250742\t[25664/60000]\n",
      "loss: 2.223905\t[32064/60000]\n",
      "loss: 2.236081\t[38464/60000]\n",
      "loss: 2.203033\t[44864/60000]\n",
      "loss: 2.196838\t[51264/60000]\n",
      "loss: 2.167985\t[57664/60000]\n",
      "Test Error: \n",
      "Accuracy: 42.8%, Avg loss: 2.159939\n",
      "\n",
      "Epoch 2\n",
      "-------------------------------\n",
      "loss: 2.170960\t[   64/60000]\n",
      "loss: 2.158575\t[ 6464/60000]\n",
      "loss: 2.108001\t[12864/60000]\n",
      "loss: 2.127630\t[19264/60000]\n",
      "loss: 2.074756\t[25664/60000]\n",
      "loss: 2.016323\t[32064/60000]\n",
      "loss: 2.054140\t[38464/60000]\n",
      "loss: 1.974896\t[44864/60000]\n",
      "loss: 1.977636\t[51264/60000]\n",
      "loss: 1.913391\t[57664/60000]\n",
      "Test Error: \n",
      "Accuracy: 54.1%, Avg loss: 1.902706\n",
      "\n",
      "Epoch 3\n",
      "-------------------------------\n",
      "loss: 1.936272\t[   64/60000]\n",
      "loss: 1.901882\t[ 6464/60000]\n",
      "loss: 1.791544\t[12864/60000]\n",
      "loss: 1.835917\t[19264/60000]\n",
      "loss: 1.722226\t[25664/60000]\n",
      "loss: 1.673035\t[32064/60000]\n",
      "loss: 1.712441\t[38464/60000]\n",
      "loss: 1.603575\t[44864/60000]\n",
      "loss: 1.624705\t[51264/60000]\n",
      "loss: 1.530419\t[57664/60000]\n",
      "Test Error: \n",
      "Accuracy: 61.4%, Avg loss: 1.533182\n",
      "\n",
      "Epoch 4\n",
      "-------------------------------\n",
      "loss: 1.602315\t[   64/60000]\n",
      "loss: 1.560447\t[ 6464/60000]\n",
      "loss: 1.413225\t[12864/60000]\n",
      "loss: 1.486993\t[19264/60000]\n",
      "loss: 1.362118\t[25664/60000]\n",
      "loss: 1.358441\t[32064/60000]\n",
      "loss: 1.385662\t[38464/60000]\n",
      "loss: 1.299094\t[44864/60000]\n",
      "loss: 1.331612\t[51264/60000]\n",
      "loss: 1.241773\t[57664/60000]\n",
      "Test Error: \n",
      "Accuracy: 63.6%, Avg loss: 1.255689\n",
      "\n",
      "Epoch 5\n",
      "-------------------------------\n",
      "loss: 1.336721\t[   64/60000]\n",
      "loss: 1.313206\t[ 6464/60000]\n",
      "loss: 1.150015\t[12864/60000]\n",
      "loss: 1.255504\t[19264/60000]\n",
      "loss: 1.128698\t[25664/60000]\n",
      "loss: 1.151199\t[32064/60000]\n",
      "loss: 1.182515\t[38464/60000]\n",
      "loss: 1.109609\t[44864/60000]\n",
      "loss: 1.148907\t[51264/60000]\n",
      "loss: 1.072526\t[57664/60000]\n",
      "Test Error: \n",
      "Accuracy: 65.0%, Avg loss: 1.084648\n",
      "\n",
      "Done!\n"
     ]
    }
   ],
   "source": [
    "epochs = 5\n",
    "for t in range(epochs):\n",
    "    print(f'Epoch {t+1}\\n-------------------------------')\n",
    "    train(train_dataloader, model, loss_fn, optimizer)\n",
    "    test(test_dataloader, model, loss_fn)\n",
    "print('Done!')"
   ]
  }
 ],
 "metadata": {
  "kernelspec": {
   "display_name": "torch",
   "language": "python",
   "name": "python3"
  },
  "language_info": {
   "codemirror_mode": {
    "name": "ipython",
    "version": 3
   },
   "file_extension": ".py",
   "mimetype": "text/x-python",
   "name": "python",
   "nbconvert_exporter": "python",
   "pygments_lexer": "ipython3",
   "version": "3.12.7"
  }
 },
 "nbformat": 4,
 "nbformat_minor": 2
}
