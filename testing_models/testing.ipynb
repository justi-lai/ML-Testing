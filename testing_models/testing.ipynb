{
 "cells": [
  {
   "cell_type": "code",
   "execution_count": 2,
   "id": "0bde803a",
   "metadata": {},
   "outputs": [],
   "source": [
    "import torch\n",
    "import torch.nn as nn\n",
    "import torch.nn.functional as F\n",
    "\n",
    "import numpy as np\n",
    "import pandas as pd"
   ]
  },
  {
   "cell_type": "code",
   "execution_count": null,
   "id": "01ba5173",
   "metadata": {},
   "outputs": [],
   "source": [
    "class NewtonPoly(nn.Module):\n",
    "    def __init__(self, degree, num_features):\n",
    "        super(NewtonPoly, self).__init__()\n",
    "        self.degree = degree\n",
    "        self.num_features = num_features\n",
    "        self.coefficients = nn.Parameter(torch.randn(degree + 1, num_features))\n",
    "\n",
    "    def forward(self, x):\n",
    "        result = torch.zeros(x.shape[0], self.num_features, device=x.device)\n",
    "        for d in range(self.degree + 1):\n",
    "            result += self.coefficients[d] * (x ** d)\n",
    "        return result"
   ]
  }
 ],
 "metadata": {
  "kernelspec": {
   "display_name": "torch",
   "language": "python",
   "name": "python3"
  },
  "language_info": {
   "codemirror_mode": {
    "name": "ipython",
    "version": 3
   },
   "file_extension": ".py",
   "mimetype": "text/x-python",
   "name": "python",
   "nbconvert_exporter": "python",
   "pygments_lexer": "ipython3",
   "version": "3.12.3"
  }
 },
 "nbformat": 4,
 "nbformat_minor": 5
}
