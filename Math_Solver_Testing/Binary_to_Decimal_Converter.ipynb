{
 "cells": [
  {
   "cell_type": "code",
   "execution_count": 1,
   "metadata": {},
   "outputs": [],
   "source": [
    "import torch\n",
    "import torch.nn as nn\n",
    "import torch.nn.functional as F\n",
    "\n",
    "from torch.optim import Adam\n",
    "from torch.utils.data import DataLoader, TensorDataset"
   ]
  },
  {
   "cell_type": "code",
   "execution_count": 2,
   "metadata": {},
   "outputs": [
    {
     "name": "stdout",
     "output_type": "stream",
     "text": [
      "178.0\n"
     ]
    }
   ],
   "source": [
    "class BinaryModel(nn.Module):\n",
    "    def __init__(self, bits=8):\n",
    "        super().__init__()\n",
    "        \n",
    "        self.binary_to_decimal = nn.Linear(in_features=bits, out_features=1, bias=False)\n",
    "        with torch.no_grad():\n",
    "            self.binary_to_decimal.weight.copy_(torch.tensor([[2.**i for i in range(bits-1, -1, -1)]], dtype=torch.float32))\n",
    "        \n",
    "        for param in self.binary_to_decimal.parameters():\n",
    "            param.requires_grad = False\n",
    "\n",
    "    def forward(self, input):\n",
    "        output = self.binary_to_decimal(input)\n",
    "        return output\n",
    "\n",
    "\n",
    "def main():\n",
    "    bits = 8\n",
    "    model = BinaryModel(bits=bits)\n",
    "\n",
    "    input = torch.tensor([[1, 0, 1, 1, 0, 0, 1, 0]], dtype=torch.float32)\n",
    "    \n",
    "    output = model(input)\n",
    "    print(output.item())\n",
    "\n",
    "if __name__ == '__main__':\n",
    "    main()"
   ]
  }
 ],
 "metadata": {
  "kernelspec": {
   "display_name": "torch",
   "language": "python",
   "name": "python3"
  },
  "language_info": {
   "codemirror_mode": {
    "name": "ipython",
    "version": 3
   },
   "file_extension": ".py",
   "mimetype": "text/x-python",
   "name": "python",
   "nbconvert_exporter": "python",
   "pygments_lexer": "ipython3",
   "version": "3.12.8"
  }
 },
 "nbformat": 4,
 "nbformat_minor": 2
}
