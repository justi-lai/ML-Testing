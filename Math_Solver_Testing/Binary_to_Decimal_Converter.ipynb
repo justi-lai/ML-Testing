{
 "cells": [
  {
   "cell_type": "code",
   "execution_count": 1,
   "metadata": {},
   "outputs": [],
   "source": [
    "import torch\n",
    "import torch.nn as nn\n",
    "import torch.nn.functional as F\n",
    "\n",
    "from torch.optim import Adam\n",
    "from torch.utils.data import DataLoader, TensorDataset"
   ]
  },
  {
   "cell_type": "code",
   "execution_count": 1,
   "metadata": {},
   "outputs": [
    {
     "ename": "NameError",
     "evalue": "name 'nn' is not defined",
     "output_type": "error",
     "traceback": [
      "\u001b[1;31m---------------------------------------------------------------------------\u001b[0m",
      "\u001b[1;31mNameError\u001b[0m                                 Traceback (most recent call last)",
      "Cell \u001b[1;32mIn[1], line 1\u001b[0m\n\u001b[1;32m----> 1\u001b[0m \u001b[38;5;28;01mclass\u001b[39;00m \u001b[38;5;21;01mBinaryModel\u001b[39;00m(nn\u001b[38;5;241m.\u001b[39mModule):\n\u001b[0;32m      2\u001b[0m     \u001b[38;5;28;01mdef\u001b[39;00m \u001b[38;5;21m__init__\u001b[39m(\u001b[38;5;28mself\u001b[39m):\n\u001b[0;32m      3\u001b[0m         \u001b[38;5;28msuper\u001b[39m()\u001b[38;5;241m.\u001b[39m\u001b[38;5;21m__init__\u001b[39m()\n",
      "\u001b[1;31mNameError\u001b[0m: name 'nn' is not defined"
     ]
    }
   ],
   "source": [
    "class BinaryModel(nn.Module):\n",
    "    def __init__(self):\n",
    "        super().__init__()\n",
    "        \n",
    "        self.sign_weight = nn.Linear(in_features=1, out_features=1, bias=False)\n",
    "        self.exponent_weight = nn.Linear(in_features=11, out_features=1, bias=False)\n",
    "        self.mantissa_weight = nn.Linear(in_features=52, out_features=1, bias=False)\n",
    "        \n",
    "        with torch.no_grad():\n",
    "            # Weights for the sign bit\n",
    "            self.sign_weight.weight.copy_(torch.tensor([[-1.0]], dtype=torch.float32))\n",
    "            \n",
    "            # Weights for the exponent (2^(e - 1023))\n",
    "            exponent_powers = torch.tensor([2.0 ** i for i in range(10, -1, -1)], dtype=torch.float32)\n",
    "            self.exponent_weight.weight.copy_(exponent_powers.unsqueeze(0))\n",
    "            \n",
    "            # Weights for the mantissa (2^(-1) to 2^(-52))\n",
    "            mantissa_powers = torch.tensor([2.0 ** (-i) for i in range(1, 53)], dtype=torch.float32)\n",
    "            self.mantissa_weight.weight.copy_(mantissa_powers.unsqueeze(0))\n",
    "        \n",
    "        # Freeze weights\n",
    "        for param in self.parameters():\n",
    "            param.requires_grad = False\n",
    "\n",
    "    def forward(self, input):\n",
    "        # Split input into sign, exponent, and mantissa\n",
    "        sign = input[:, :1]  # First bit\n",
    "        exponent = input[:, 1:12]  # Next 11 bits\n",
    "        mantissa = input[:, 12:]  # Remaining 52 bits\n",
    "        \n",
    "        # Convert sign\n",
    "        sign_value = self.sign_weight(sign)\n",
    "        \n",
    "        # Convert exponent (subtract 1023 for bias)\n",
    "        exponent_value = self.exponent_weight(exponent) - 1023\n",
    "        \n",
    "        # Convert mantissa (add implicit leading 1)\n",
    "        mantissa_value = self.mantissa_weight(mantissa) + 1.0\n",
    "        \n",
    "        # Compute the final value: (-1)^sign * 2^exponent * mantissa\n",
    "        decimal_value = torch.pow(2.0, exponent_value) * mantissa_value\n",
    "        decimal_value = torch.where(sign == 1, -decimal_value, decimal_value)  # Apply sign\n",
    "        \n",
    "        return decimal_value\n",
    "\n",
    "\n",
    "def main():\n",
    "    model = BinaryModel()\n",
    "\n",
    "    input = torch.tensor([\n",
    "                            [0, 1, 0, 0, 0, 0, 0, 0,  # First byte\n",
    "                            0, 0, 1, 0, 0, 1, 0, 1,  # Second byte\n",
    "                            0, 0, 0, 0, 0, 0, 0, 0,  # Third byte\n",
    "                            0, 0, 0, 0, 0, 0, 0, 0,  # Fourth byte\n",
    "                            0, 0, 0, 0, 0, 0, 0, 0,  # Fifth byte\n",
    "                            0, 0, 0, 0, 0, 0, 0, 0,  # Sixth byte\n",
    "                            0, 0, 0, 0, 0, 0, 0, 0,\n",
    "                            0, 0, 0, 0, 0, 0, 0, 0]  # Seventh and eighth bytes\n",
    "                        ], dtype=torch.float32)\n",
    "    \n",
    "    output = model(input)\n",
    "    print(output.item())\n",
    "\n",
    "if __name__ == '__main__':\n",
    "    main()"
   ]
  }
 ],
 "metadata": {
  "kernelspec": {
   "display_name": "torch",
   "language": "python",
   "name": "python3"
  },
  "language_info": {
   "codemirror_mode": {
    "name": "ipython",
    "version": 3
   },
   "file_extension": ".py",
   "mimetype": "text/x-python",
   "name": "python",
   "nbconvert_exporter": "python",
   "pygments_lexer": "ipython3",
   "version": "3.12.8"
  }
 },
 "nbformat": 4,
 "nbformat_minor": 2
}
